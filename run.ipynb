{
 "cells": [
  {
   "cell_type": "markdown",
   "id": "7ea739e9-a8fe-4877-b28e-5a08d7adf7d8",
   "metadata": {},
   "source": [
    "## 환경세팅"
   ]
  },
  {
   "cell_type": "code",
   "execution_count": null,
   "id": "a649fbcd-866d-422e-88b4-42d3a8f03772",
   "metadata": {
    "execution": {
     "iopub.execute_input": "2023-12-04T08:44:35.517785Z",
     "iopub.status.busy": "2023-12-04T08:44:35.517507Z",
     "iopub.status.idle": "2023-12-04T08:46:11.003487Z",
     "shell.execute_reply": "2023-12-04T08:46:11.002927Z",
     "shell.execute_reply.started": "2023-12-04T08:44:35.517764Z"
    }
   },
   "outputs": [],
   "source": [
    "!pip install -r requirements.txt"
   ]
  },
  {
   "cell_type": "markdown",
   "id": "f0a27379",
   "metadata": {},
   "source": [
    "## 1. 오리지널 임베딩\n",
    "\n",
    "../measures에 생성"
   ]
  },
  {
   "cell_type": "code",
   "execution_count": null,
   "id": "eb4151c1",
   "metadata": {
    "execution": {
     "iopub.execute_input": "2023-12-04T12:35:00.565990Z",
     "iopub.status.busy": "2023-12-04T12:35:00.565317Z",
     "iopub.status.idle": "2023-12-04T12:36:18.635203Z",
     "shell.execute_reply": "2023-12-04T12:36:18.634624Z",
     "shell.execute_reply.started": "2023-12-04T12:35:00.565963Z"
    },
    "scrolled": true
   },
   "outputs": [],
   "source": [
    "%cd perspective/2_finetune\n",
    "!bash scripts/get_embedding_gte.sh"
   ]
  },
  {
   "cell_type": "markdown",
   "id": "0ae21ab1",
   "metadata": {},
   "source": [
    "## 2. 샘플 트리플렛\n",
    "\n",
    "샘플링된 triplet은 perspective/1_predict_triplet/sampled_triplet_results에 생성"
   ]
  },
  {
   "cell_type": "code",
   "execution_count": null,
   "id": "a434b3a8",
   "metadata": {
    "execution": {
     "iopub.execute_input": "2023-12-04T12:36:32.886952Z",
     "iopub.status.busy": "2023-12-04T12:36:32.886664Z",
     "iopub.status.idle": "2023-12-04T12:36:33.296273Z",
     "shell.execute_reply": "2023-12-04T12:36:33.295498Z",
     "shell.execute_reply.started": "2023-12-04T12:36:32.886926Z"
    }
   },
   "outputs": [],
   "source": [
    "%cd perspective/1_predict_triplet\n",
    "!bash scripts/triplet_sampling.sh\n"
   ]
  },
  {
   "cell_type": "markdown",
   "id": "5775db3d",
   "metadata": {},
   "source": [
    "## 3. 삼중항 예측\n",
    "\n",
    "예측된 triplet은 perspective/1_predict_triplet/predicted_triplet_results에 생성"
   ]
  },
  {
   "cell_type": "code",
   "execution_count": null,
   "id": "c5ccc1b6",
   "metadata": {
    "execution": {
     "iopub.execute_input": "2023-12-04T12:36:43.737503Z",
     "iopub.status.busy": "2023-12-04T12:36:43.737210Z",
     "iopub.status.idle": "2023-12-04T13:05:01.937861Z",
     "shell.execute_reply": "2023-12-04T13:05:01.937234Z",
     "shell.execute_reply.started": "2023-12-04T12:36:43.737480Z"
    },
    "scrolled": true
   },
   "outputs": [],
   "source": [
    "%cd perspective/1_predict_triplet\n",
    "!bash scripts/predict_triplet.sh"
   ]
  },
  {
   "cell_type": "markdown",
   "id": "bc71f658",
   "metadata": {},
   "source": [
    "## 4. 삼중항 변환\n",
    "\n",
    "변환된 triplet은 perspective/2_finetune/converted_triplet_results에 생성"
   ]
  },
  {
   "cell_type": "code",
   "execution_count": null,
   "id": "4246908e",
   "metadata": {
    "execution": {
     "iopub.execute_input": "2023-12-04T13:06:15.491620Z",
     "iopub.status.busy": "2023-12-04T13:06:15.491097Z",
     "iopub.status.idle": "2023-12-04T13:06:16.637236Z",
     "shell.execute_reply": "2023-12-04T13:06:16.636644Z",
     "shell.execute_reply.started": "2023-12-04T13:06:15.491585Z"
    }
   },
   "outputs": [],
   "source": [
    "%cd perspective/2_finetune\n",
    "!bash scripts/convert_triplet.sh\n",
    "!bash scripts/convert_triplet_self.sh"
   ]
  },
  {
   "cell_type": "markdown",
   "id": "288c0dae",
   "metadata": {},
   "source": [
    "## 5. 파인튜닝\n",
    "\n",
    "finetune된 모델은 perspective/2_finetune/checkpoints에 생성"
   ]
  },
  {
   "cell_type": "code",
   "execution_count": null,
   "id": "e7587668",
   "metadata": {
    "execution": {
     "iopub.execute_input": "2023-12-04T13:06:18.900749Z",
     "iopub.status.busy": "2023-12-04T13:06:18.900476Z"
    },
    "scrolled": true
   },
   "outputs": [],
   "source": [
    "%cd perspective/2_finetune\n",
    "!bash scripts/finetune_gte.sh"
   ]
  },
  {
   "cell_type": "markdown",
   "id": "d6aaa5fb",
   "metadata": {},
   "source": [
    "## 6. 파인튜닝 후 임베딩\n",
    "\n",
    "체크포인트로 전환 후 임베딩"
   ]
  },
  {
   "cell_type": "code",
   "execution_count": null,
   "id": "45b68ba5",
   "metadata": {
    "execution": {
     "iopub.execute_input": "2023-12-04T11:13:19.850155Z",
     "iopub.status.busy": "2023-12-04T11:13:19.849886Z",
     "iopub.status.idle": "2023-12-04T11:14:43.272800Z",
     "shell.execute_reply": "2023-12-04T11:14:43.271925Z",
     "shell.execute_reply.started": "2023-12-04T11:13:19.850134Z"
    }
   },
   "outputs": [],
   "source": [
    "%cd perspective/2_finetune\n",
    "!bash scripts/get_finetuned_embedding_gte.sh"
   ]
  }
 ],
 "metadata": {
  "kernelspec": {
   "display_name": "Python 3 (ipykernel)",
   "language": "python",
   "name": "python3"
  },
  "language_info": {
   "codemirror_mode": {
    "name": "ipython",
    "version": 3
   },
   "file_extension": ".py",
   "mimetype": "text/x-python",
   "name": "python",
   "nbconvert_exporter": "python",
   "pygments_lexer": "ipython3",
   "version": "3.9.16"
  }
 },
 "nbformat": 4,
 "nbformat_minor": 5
}
